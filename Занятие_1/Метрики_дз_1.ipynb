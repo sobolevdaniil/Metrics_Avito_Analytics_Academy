{
 "cells": [
  {
   "cell_type": "markdown",
   "id": "47197fdb",
   "metadata": {},
   "source": [
    "# Удержание пользователей"
   ]
  },
  {
   "cell_type": "markdown",
   "id": "719a35b5",
   "metadata": {},
   "source": [
    "К нам приходит руководитель продукта “Интернет-магазин”, спрашивает про удержание клиентов и повторные покупки.\n",
    "У него есть опасение, что из-за проблем с доставкой товаров в магазине у нас стали больше оттекать пользователи.\n",
    "Он просит нас сравнить, на сколько сейчас все хуже, чем в прошлом году? "
   ]
  },
  {
   "cell_type": "markdown",
   "id": "0d13af43",
   "metadata": {},
   "source": [
    "Нам необходимо сделать:\n",
    "- Проверить гипотезу руководителя продукта \n",
    "- Дать руководителю продукта инструмент для самостоятельного принятия решений по качеству удержания пользовательской базы"
   ]
  },
  {
   "cell_type": "markdown",
   "id": "e2902924",
   "metadata": {
    "toc": true
   },
   "source": [
    "<h1>Table of Contents<span class=\"tocSkip\"></span></h1>\n",
    "<div class=\"toc\"><ul class=\"toc-item\"><li><span><a href=\"#Удержание-пользователей\" data-toc-modified-id=\"Удержание-пользователей-1\"><span class=\"toc-item-num\">1&nbsp;&nbsp;</span>Удержание пользователей</a></span><ul class=\"toc-item\"><li><span><a href=\"#Импорт-необходимых-библиотек\" data-toc-modified-id=\"Импорт-необходимых-библиотек-1.1\"><span class=\"toc-item-num\">1.1&nbsp;&nbsp;</span>Импорт необходимых библиотек</a></span></li><li><span><a href=\"#Первичный-осмотр-данных\" data-toc-modified-id=\"Первичный-осмотр-данных-1.2\"><span class=\"toc-item-num\">1.2&nbsp;&nbsp;</span>Первичный осмотр данных</a></span><ul class=\"toc-item\"><li><span><a href=\"#Customers\" data-toc-modified-id=\"Customers-1.2.1\"><span class=\"toc-item-num\">1.2.1&nbsp;&nbsp;</span>Customers</a></span></li><li><span><a href=\"#Orders\" data-toc-modified-id=\"Orders-1.2.2\"><span class=\"toc-item-num\">1.2.2&nbsp;&nbsp;</span>Orders</a></span></li></ul></li><li><span><a href=\"#Подготовка-к-анализу\" data-toc-modified-id=\"Подготовка-к-анализу-1.3\"><span class=\"toc-item-num\">1.3&nbsp;&nbsp;</span>Подготовка к анализу</a></span></li><li><span><a href=\"#Анализ\" data-toc-modified-id=\"Анализ-1.4\"><span class=\"toc-item-num\">1.4&nbsp;&nbsp;</span>Анализ</a></span></li><li><span><a href=\"#Общий-вывод\" data-toc-modified-id=\"Общий-вывод-1.5\"><span class=\"toc-item-num\">1.5&nbsp;&nbsp;</span>Общий вывод</a></span></li></ul></li></ul></div>"
   ]
  },
  {
   "cell_type": "markdown",
   "id": "ce98c4f8",
   "metadata": {},
   "source": [
    "## Импорт необходимых библиотек"
   ]
  },
  {
   "cell_type": "code",
   "execution_count": 1,
   "id": "314b409f",
   "metadata": {},
   "outputs": [],
   "source": [
    "import pandas as pd\n",
    "import numpy as np\n",
    "\n",
    "import matplotlib.pyplot as plt"
   ]
  },
  {
   "cell_type": "markdown",
   "id": "5ac29ae2",
   "metadata": {},
   "source": [
    "## Первичный осмотр данных"
   ]
  },
  {
   "cell_type": "markdown",
   "id": "05ce5738",
   "metadata": {},
   "source": [
    "### Customers"
   ]
  },
  {
   "cell_type": "code",
   "execution_count": 2,
   "id": "8f052c27",
   "metadata": {},
   "outputs": [],
   "source": [
    "customers = pd.read_csv('/Users/daniilsobolev/Desktop/Аналитика/Метрики/Занятие_1/customers.csv')"
   ]
  },
  {
   "cell_type": "code",
   "execution_count": 3,
   "id": "2cbb9a1b",
   "metadata": {
    "scrolled": false
   },
   "outputs": [
    {
     "data": {
      "text/html": [
       "<div>\n",
       "<style scoped>\n",
       "    .dataframe tbody tr th:only-of-type {\n",
       "        vertical-align: middle;\n",
       "    }\n",
       "\n",
       "    .dataframe tbody tr th {\n",
       "        vertical-align: top;\n",
       "    }\n",
       "\n",
       "    .dataframe thead th {\n",
       "        text-align: right;\n",
       "    }\n",
       "</style>\n",
       "<table border=\"1\" class=\"dataframe\">\n",
       "  <thead>\n",
       "    <tr style=\"text-align: right;\">\n",
       "      <th></th>\n",
       "      <th>id</th>\n",
       "      <th>name</th>\n",
       "      <th>segment</th>\n",
       "      <th>state</th>\n",
       "      <th>city</th>\n",
       "    </tr>\n",
       "  </thead>\n",
       "  <tbody>\n",
       "    <tr>\n",
       "      <th>764</th>\n",
       "      <td>TH-21115</td>\n",
       "      <td>Thea Hudgings</td>\n",
       "      <td>Corporate</td>\n",
       "      <td>Pennsylvania</td>\n",
       "      <td>Philadelphia</td>\n",
       "    </tr>\n",
       "    <tr>\n",
       "      <th>36</th>\n",
       "      <td>JC-16105</td>\n",
       "      <td>Julie Creighton</td>\n",
       "      <td>Corporate</td>\n",
       "      <td>North Carolina</td>\n",
       "      <td>Durham</td>\n",
       "    </tr>\n",
       "    <tr>\n",
       "      <th>167</th>\n",
       "      <td>RF-19840</td>\n",
       "      <td>Roy Franzosisch</td>\n",
       "      <td>Consumer</td>\n",
       "      <td>New York</td>\n",
       "      <td>New York City</td>\n",
       "    </tr>\n",
       "    <tr>\n",
       "      <th>310</th>\n",
       "      <td>PG-18820</td>\n",
       "      <td>Patrick Gardner</td>\n",
       "      <td>Consumer</td>\n",
       "      <td>California</td>\n",
       "      <td>San Francisco</td>\n",
       "    </tr>\n",
       "    <tr>\n",
       "      <th>199</th>\n",
       "      <td>MY-17380</td>\n",
       "      <td>Maribeth Yedwab</td>\n",
       "      <td>Corporate</td>\n",
       "      <td>Colorado</td>\n",
       "      <td>Parker</td>\n",
       "    </tr>\n",
       "  </tbody>\n",
       "</table>\n",
       "</div>"
      ],
      "text/plain": [
       "           id             name    segment           state           city\n",
       "764  TH-21115    Thea Hudgings  Corporate    Pennsylvania   Philadelphia\n",
       "36   JC-16105  Julie Creighton  Corporate  North Carolina         Durham\n",
       "167  RF-19840  Roy Franzosisch   Consumer        New York  New York City\n",
       "310  PG-18820  Patrick Gardner   Consumer      California  San Francisco\n",
       "199  MY-17380  Maribeth Yedwab  Corporate        Colorado         Parker"
      ]
     },
     "execution_count": 3,
     "metadata": {},
     "output_type": "execute_result"
    }
   ],
   "source": [
    "customers.sample(5)"
   ]
  },
  {
   "cell_type": "code",
   "execution_count": 4,
   "id": "4ed919f3",
   "metadata": {
    "scrolled": false
   },
   "outputs": [
    {
     "name": "stdout",
     "output_type": "stream",
     "text": [
      "<class 'pandas.core.frame.DataFrame'>\n",
      "RangeIndex: 793 entries, 0 to 792\n",
      "Data columns (total 5 columns):\n",
      " #   Column   Non-Null Count  Dtype \n",
      "---  ------   --------------  ----- \n",
      " 0   id       793 non-null    object\n",
      " 1   name     793 non-null    object\n",
      " 2   segment  793 non-null    object\n",
      " 3   state    793 non-null    object\n",
      " 4   city     793 non-null    object\n",
      "dtypes: object(5)\n",
      "memory usage: 31.1+ KB\n"
     ]
    }
   ],
   "source": [
    "customers.info()"
   ]
  },
  {
   "cell_type": "code",
   "execution_count": 5,
   "id": "4c20fc5d",
   "metadata": {},
   "outputs": [
    {
     "data": {
      "text/plain": [
       "793"
      ]
     },
     "execution_count": 5,
     "metadata": {},
     "output_type": "execute_result"
    }
   ],
   "source": [
    "len(customers['id'].unique())"
   ]
  },
  {
   "cell_type": "code",
   "execution_count": 6,
   "id": "ae0a02f2",
   "metadata": {
    "scrolled": true
   },
   "outputs": [
    {
     "data": {
      "text/plain": [
       "array(['Consumer', 'Corporate', 'Home Office'], dtype=object)"
      ]
     },
     "execution_count": 6,
     "metadata": {},
     "output_type": "execute_result"
    }
   ],
   "source": [
    "customers['segment'].unique()"
   ]
  },
  {
   "cell_type": "markdown",
   "id": "0b86a575",
   "metadata": {},
   "source": [
    "В таблице customers 793 объекта без пропусков.<br>\n",
    "Присутствуют следующие признаки:\n",
    "- id -- id покупателя (уникальные)\n",
    "- name -- имя покупателя\n",
    "- segment -- тип покупки: Пользовательский, Корпоративный, Домашний офис\n",
    "- state -- штат, куда отправлялась покупка\n",
    "- city -- город, в который отправлялась покупка"
   ]
  },
  {
   "cell_type": "markdown",
   "id": "52752e2e",
   "metadata": {},
   "source": [
    "### Orders"
   ]
  },
  {
   "cell_type": "code",
   "execution_count": 7,
   "id": "4b759f48",
   "metadata": {},
   "outputs": [],
   "source": [
    "orders = pd.read_csv('/Users/daniilsobolev/Desktop/Аналитика/Метрики/Занятие_1/orders.csv')"
   ]
  },
  {
   "cell_type": "code",
   "execution_count": 8,
   "id": "38bbbd7c",
   "metadata": {},
   "outputs": [
    {
     "data": {
      "text/html": [
       "<div>\n",
       "<style scoped>\n",
       "    .dataframe tbody tr th:only-of-type {\n",
       "        vertical-align: middle;\n",
       "    }\n",
       "\n",
       "    .dataframe tbody tr th {\n",
       "        vertical-align: top;\n",
       "    }\n",
       "\n",
       "    .dataframe thead th {\n",
       "        text-align: right;\n",
       "    }\n",
       "</style>\n",
       "<table border=\"1\" class=\"dataframe\">\n",
       "  <thead>\n",
       "    <tr style=\"text-align: right;\">\n",
       "      <th></th>\n",
       "      <th>id</th>\n",
       "      <th>order_date</th>\n",
       "      <th>ship_mode</th>\n",
       "      <th>customer_id</th>\n",
       "      <th>sales</th>\n",
       "    </tr>\n",
       "  </thead>\n",
       "  <tbody>\n",
       "    <tr>\n",
       "      <th>2384</th>\n",
       "      <td>144785</td>\n",
       "      <td>2016-04-18</td>\n",
       "      <td>Standard</td>\n",
       "      <td>CS-12490</td>\n",
       "      <td>13.830</td>\n",
       "    </tr>\n",
       "    <tr>\n",
       "      <th>1975</th>\n",
       "      <td>117660</td>\n",
       "      <td>2016-12-30</td>\n",
       "      <td>Standard</td>\n",
       "      <td>BM-11785</td>\n",
       "      <td>19.616</td>\n",
       "    </tr>\n",
       "    <tr>\n",
       "      <th>4674</th>\n",
       "      <td>156097</td>\n",
       "      <td>2016-09-19</td>\n",
       "      <td>Same Day</td>\n",
       "      <td>EH-14125</td>\n",
       "      <td>703.680</td>\n",
       "    </tr>\n",
       "    <tr>\n",
       "      <th>1909</th>\n",
       "      <td>113516</td>\n",
       "      <td>2016-09-08</td>\n",
       "      <td>Second</td>\n",
       "      <td>VM-21685</td>\n",
       "      <td>100.160</td>\n",
       "    </tr>\n",
       "    <tr>\n",
       "      <th>2608</th>\n",
       "      <td>158610</td>\n",
       "      <td>2016-09-19</td>\n",
       "      <td>First</td>\n",
       "      <td>CK-12595</td>\n",
       "      <td>69.520</td>\n",
       "    </tr>\n",
       "  </tbody>\n",
       "</table>\n",
       "</div>"
      ],
      "text/plain": [
       "          id  order_date ship_mode customer_id    sales\n",
       "2384  144785  2016-04-18  Standard    CS-12490   13.830\n",
       "1975  117660  2016-12-30  Standard    BM-11785   19.616\n",
       "4674  156097  2016-09-19  Same Day    EH-14125  703.680\n",
       "1909  113516  2016-09-08    Second    VM-21685  100.160\n",
       "2608  158610  2016-09-19     First    CK-12595   69.520"
      ]
     },
     "execution_count": 8,
     "metadata": {},
     "output_type": "execute_result"
    }
   ],
   "source": [
    "orders.sample(5)"
   ]
  },
  {
   "cell_type": "code",
   "execution_count": 9,
   "id": "aa48e76b",
   "metadata": {
    "scrolled": true
   },
   "outputs": [
    {
     "name": "stdout",
     "output_type": "stream",
     "text": [
      "<class 'pandas.core.frame.DataFrame'>\n",
      "RangeIndex: 5009 entries, 0 to 5008\n",
      "Data columns (total 5 columns):\n",
      " #   Column       Non-Null Count  Dtype  \n",
      "---  ------       --------------  -----  \n",
      " 0   id           5009 non-null   int64  \n",
      " 1   order_date   5009 non-null   object \n",
      " 2   ship_mode    5009 non-null   object \n",
      " 3   customer_id  5009 non-null   object \n",
      " 4   sales        5009 non-null   float64\n",
      "dtypes: float64(1), int64(1), object(3)\n",
      "memory usage: 195.8+ KB\n"
     ]
    }
   ],
   "source": [
    "orders.info()"
   ]
  },
  {
   "cell_type": "code",
   "execution_count": 10,
   "id": "90a3a41f",
   "metadata": {},
   "outputs": [
    {
     "data": {
      "text/plain": [
       "5009"
      ]
     },
     "execution_count": 10,
     "metadata": {},
     "output_type": "execute_result"
    }
   ],
   "source": [
    "len(orders['id'].unique())"
   ]
  },
  {
   "cell_type": "code",
   "execution_count": 11,
   "id": "3770b5f2",
   "metadata": {},
   "outputs": [
    {
     "data": {
      "text/plain": [
       "array(['Standard', 'Second', 'First', 'Same Day'], dtype=object)"
      ]
     },
     "execution_count": 11,
     "metadata": {},
     "output_type": "execute_result"
    }
   ],
   "source": [
    "orders['ship_mode'].unique()"
   ]
  },
  {
   "cell_type": "code",
   "execution_count": 12,
   "id": "1d9fb61c",
   "metadata": {},
   "outputs": [
    {
     "data": {
      "text/plain": [
       "793"
      ]
     },
     "execution_count": 12,
     "metadata": {},
     "output_type": "execute_result"
    }
   ],
   "source": [
    "len(orders['customer_id'].unique())"
   ]
  },
  {
   "cell_type": "code",
   "execution_count": 13,
   "id": "8a4471ad",
   "metadata": {},
   "outputs": [
    {
     "name": "stdout",
     "output_type": "stream",
     "text": [
      "Разброс дат заказов: 2014-01-03 -- 2017-12-30\n"
     ]
    }
   ],
   "source": [
    "print(f\"Разброс дат заказов: {orders['order_date'].min()} -- {orders['order_date'].max()}\")"
   ]
  },
  {
   "cell_type": "markdown",
   "id": "4c3860ca",
   "metadata": {},
   "source": [
    "В таблице orders 5009 объектов без пропусков<br>\n",
    "Присутствуют следующие признаки:\n",
    "- id -- id покупки (уникальные)\n",
    "- order_date -- дата покупки\n",
    "- ship_mode -- ХЗ\n",
    "- customer_id -- id покупателя, совершившего данную покупку\n",
    "- sales -- стоимость покупки"
   ]
  },
  {
   "cell_type": "markdown",
   "id": "1bb8dc7f",
   "metadata": {},
   "source": [
    "**Вывод:**\n",
    "\n",
    "- Данные в таблице без пропусков, что хорошо. С первого взгляда все корректные.\n",
    "\n",
    "- Наш руководитель просит узнать как изменилась ситуация с прошлого (2016) по этот год (2017). Но нам доступна информация о заказах с 2014 по 2017 год, поэтому есть возможность посмотреть, что было и раньше."
   ]
  },
  {
   "cell_type": "markdown",
   "id": "14c35711",
   "metadata": {},
   "source": [
    "## Подготовка к анализу"
   ]
  },
  {
   "cell_type": "markdown",
   "id": "0e879def",
   "metadata": {},
   "source": [
    "Для проверки гипотезы нам потребуется id покупателя, id его покупок, сумма и дата каждой покупки.\n",
    "\n",
    "Тогда, в принципе, нам не нужна таблица сustomers. Но, руководитель к нам пришел с опасениями плохой работы доставки, поэтому далее можно будет провести анализ по штатам/городам. Или же по сегментам."
   ]
  },
  {
   "cell_type": "markdown",
   "id": "12ef88da",
   "metadata": {},
   "source": [
    "Извлечем год и месяц в отдельные признаки."
   ]
  },
  {
   "cell_type": "code",
   "execution_count": 14,
   "id": "7dab8ff7",
   "metadata": {},
   "outputs": [],
   "source": [
    "orders['order_date'] = pd.to_datetime(orders['order_date'])\n",
    "orders['year'] = orders['order_date'].dt.year\n",
    "orders['month'] = orders['order_date'].dt.month"
   ]
  },
  {
   "cell_type": "markdown",
   "id": "beb13696",
   "metadata": {},
   "source": [
    "## Анализ"
   ]
  },
  {
   "cell_type": "code",
   "execution_count": 15,
   "id": "1fe8ce82",
   "metadata": {
    "scrolled": true
   },
   "outputs": [
    {
     "data": {
      "image/png": "[encoded data removed]",
      "text/plain": [
       "<Figure size 432x288 with 1 Axes>"
      ]
     },
     "metadata": {
      "needs_background": "light"
     },
     "output_type": "display_data"
    }
   ],
   "source": [
    "orders.groupby('year').count()['id'].plot(kind='bar')\n",
    "plt.show()"
   ]
  },
  {
   "cell_type": "code",
   "execution_count": 16,
   "id": "e9cc1a3e",
   "metadata": {},
   "outputs": [
    {
     "data": {
      "image/png": "[encoded data removed]",
      "text/plain": [
       "<Figure size 432x288 with 1 Axes>"
      ]
     },
     "metadata": {
      "needs_background": "light"
     },
     "output_type": "display_data"
    }
   ],
   "source": [
    "orders.groupby('year').sum()['sales'].plot(kind='bar')\n",
    "plt.show()"
   ]
  },
  {
   "cell_type": "markdown",
   "id": "40dbc4b7",
   "metadata": {},
   "source": [
    "**Вывод:** \n",
    "\n",
    "- Можно заметить, что количество пользователей и сумма общих покупок с 2016 по 2017 год выросли. Что хорошо, но пока это не обьясняет, были ли это новые пользователи или вновь пришедшие старые."
   ]
  },
  {
   "cell_type": "markdown",
   "id": "00b2d8fa",
   "metadata": {},
   "source": [
    "Для того, чтобы понять были ли это ушедшие пользователи или же вновь пришедшие, найдем для каждого пользователя дату первой покупки (год и месяц) и добавим её в исходный датасет:"
   ]
  },
  {
   "cell_type": "code",
   "execution_count": 17,
   "id": "890285cd",
   "metadata": {
    "scrolled": true
   },
   "outputs": [],
   "source": [
    "first_orders = orders.groupby('customer_id')['order_date'].min().to_frame()\n",
    "first_orders['first_order_year'] = first_orders['order_date'].dt.year\n",
    "first_orders['first_order_month'] = first_orders['order_date'].dt.month\n",
    "del first_orders['order_date']\n",
    "del orders['order_date']"
   ]
  },
  {
   "cell_type": "code",
   "execution_count": 18,
   "id": "bca02889",
   "metadata": {},
   "outputs": [],
   "source": [
    "orders_merged = orders.merge(first_orders, how='inner', left_on='customer_id', right_index=True)"
   ]
  },
  {
   "cell_type": "markdown",
   "id": "8665b929",
   "metadata": {},
   "source": [
    "Посомтрим сколько новых пользователей приходили в каждый год:"
   ]
  },
  {
   "cell_type": "code",
   "execution_count": 19,
   "id": "9a9c3946",
   "metadata": {
    "scrolled": true
   },
   "outputs": [
    {
     "data": {
      "text/plain": [
       "first_order_year\n",
       "2014    4020\n",
       "2015     739\n",
       "2016     231\n",
       "2017      19\n",
       "Name: id, dtype: int64"
      ]
     },
     "execution_count": 19,
     "metadata": {},
     "output_type": "execute_result"
    }
   ],
   "source": [
    "orders_merged.groupby('first_order_year').count()['id']"
   ]
  },
  {
   "cell_type": "code",
   "execution_count": 20,
   "id": "ff1b7ba9",
   "metadata": {},
   "outputs": [
    {
     "data": {
      "image/png": "[encoded data removed]",
      "text/plain": [
       "<Figure size 432x288 with 1 Axes>"
      ]
     },
     "metadata": {
      "needs_background": "light"
     },
     "output_type": "display_data"
    }
   ],
   "source": [
    "orders_merged.groupby('first_order_year').count()['id'].plot(kind='bar')\n",
    "plt.show()"
   ]
  },
  {
   "cell_type": "markdown",
   "id": "cecb3cfa",
   "metadata": {},
   "source": [
    "**Вывод:** \n",
    "\n",
    "- Число новых пользователей с каждым годом сильно убывает."
   ]
  },
  {
   "cell_type": "markdown",
   "id": "e9cf797f",
   "metadata": {},
   "source": [
    "Далее выведем следующую информацию:\n",
    "\n",
    "Сгруппируем данные по году первой покупки и для каждой группы выведем сколько покупок и на какую сумму совершали клиенты каждый год. "
   ]
  },
  {
   "cell_type": "code",
   "execution_count": 21,
   "id": "1902f687",
   "metadata": {},
   "outputs": [
    {
     "data": {
      "text/html": [
       "<div>\n",
       "<style scoped>\n",
       "    .dataframe tbody tr th:only-of-type {\n",
       "        vertical-align: middle;\n",
       "    }\n",
       "\n",
       "    .dataframe tbody tr th {\n",
       "        vertical-align: top;\n",
       "    }\n",
       "\n",
       "    .dataframe thead th {\n",
       "        text-align: right;\n",
       "    }\n",
       "</style>\n",
       "<table border=\"1\" class=\"dataframe\">\n",
       "  <thead>\n",
       "    <tr style=\"text-align: right;\">\n",
       "      <th></th>\n",
       "      <th></th>\n",
       "      <th>sum</th>\n",
       "      <th>count</th>\n",
       "    </tr>\n",
       "    <tr>\n",
       "      <th>first_order_year</th>\n",
       "      <th>year</th>\n",
       "      <th></th>\n",
       "      <th></th>\n",
       "    </tr>\n",
       "  </thead>\n",
       "  <tbody>\n",
       "    <tr>\n",
       "      <th rowspan=\"4\" valign=\"top\">2014</th>\n",
       "      <th>2014</th>\n",
       "      <td>484247.4981</td>\n",
       "      <td>969</td>\n",
       "    </tr>\n",
       "    <tr>\n",
       "      <th>2015</th>\n",
       "      <td>365144.0128</td>\n",
       "      <td>807</td>\n",
       "    </tr>\n",
       "    <tr>\n",
       "      <th>2016</th>\n",
       "      <td>454908.4041</td>\n",
       "      <td>996</td>\n",
       "    </tr>\n",
       "    <tr>\n",
       "      <th>2017</th>\n",
       "      <td>533024.6956</td>\n",
       "      <td>1248</td>\n",
       "    </tr>\n",
       "    <tr>\n",
       "      <th rowspan=\"3\" valign=\"top\">2015</th>\n",
       "      <th>2015</th>\n",
       "      <td>105388.4962</td>\n",
       "      <td>231</td>\n",
       "    </tr>\n",
       "    <tr>\n",
       "      <th>2016</th>\n",
       "      <td>99493.5739</td>\n",
       "      <td>215</td>\n",
       "    </tr>\n",
       "    <tr>\n",
       "      <th>2017</th>\n",
       "      <td>131772.4962</td>\n",
       "      <td>293</td>\n",
       "    </tr>\n",
       "    <tr>\n",
       "      <th rowspan=\"2\" valign=\"top\">2016</th>\n",
       "      <th>2016</th>\n",
       "      <td>54803.6200</td>\n",
       "      <td>104</td>\n",
       "    </tr>\n",
       "    <tr>\n",
       "      <th>2017</th>\n",
       "      <td>60906.2584</td>\n",
       "      <td>127</td>\n",
       "    </tr>\n",
       "    <tr>\n",
       "      <th>2017</th>\n",
       "      <th>2017</th>\n",
       "      <td>7511.8050</td>\n",
       "      <td>19</td>\n",
       "    </tr>\n",
       "  </tbody>\n",
       "</table>\n",
       "</div>"
      ],
      "text/plain": [
       "                               sum  count\n",
       "first_order_year year                    \n",
       "2014             2014  484247.4981    969\n",
       "                 2015  365144.0128    807\n",
       "                 2016  454908.4041    996\n",
       "                 2017  533024.6956   1248\n",
       "2015             2015  105388.4962    231\n",
       "                 2016   99493.5739    215\n",
       "                 2017  131772.4962    293\n",
       "2016             2016   54803.6200    104\n",
       "                 2017   60906.2584    127\n",
       "2017             2017    7511.8050     19"
      ]
     },
     "execution_count": 21,
     "metadata": {},
     "output_type": "execute_result"
    }
   ],
   "source": [
    "cohorts = orders_merged.groupby(['first_order_year', 'year'])['sales'].agg(['sum', 'count'])\n",
    "cohorts"
   ]
  },
  {
   "cell_type": "markdown",
   "id": "c225c4f1",
   "metadata": {},
   "source": [
    "**Вывод:** \n",
    "\n",
    "- Из таблицы видно, что рассматривая каждую группу, мы можем сделать вывод, что в 2017 году старые пользователи совершили больше заказов, чем они совершали в годы ранее. Например, пользователи 2014 года ранее делали менее 1000 заказов, а в 2017 году сделали около 1250."
   ]
  },
  {
   "cell_type": "markdown",
   "id": "4729cd35",
   "metadata": {},
   "source": [
    "Далее хотелось бы узнать: это большое количество пользователей совершают покупки или же малое количество пользователей совершают много покупок."
   ]
  },
  {
   "cell_type": "code",
   "execution_count": 22,
   "id": "9b891518",
   "metadata": {},
   "outputs": [],
   "source": [
    "def check(data, first_order_year, order_year) -> int:\n",
    "    used_data = data.copy()\n",
    "    used_data = used_data[used_data['first_order_year'] == first_order_year] \n",
    "    used_data = used_data[used_data['year'] == order_year]\n",
    "    return len(used_data['customer_id'].unique())"
   ]
  },
  {
   "cell_type": "code",
   "execution_count": 23,
   "id": "ac097203",
   "metadata": {},
   "outputs": [],
   "source": [
    "def make_table(data, first_year, last_year):\n",
    "    result = []\n",
    "    for i in range(first_year, last_year + 1):\n",
    "        pre_res = []\n",
    "        for j in range(first_year, last_year + 1):\n",
    "            pre_res.append(check(data, i, j))\n",
    "        result.append(pre_res)\n",
    "    \n",
    "    res_data = pd.DataFrame(\n",
    "        result, \n",
    "        list(range(first_year, last_year + 1)), \n",
    "        list(range(first_year, last_year + 1))\n",
    "    )   \n",
    "    return res_data"
   ]
  },
  {
   "cell_type": "code",
   "execution_count": 24,
   "id": "deef7758",
   "metadata": {
    "scrolled": false
   },
   "outputs": [
    {
     "data": {
      "text/html": [
       "<div>\n",
       "<style scoped>\n",
       "    .dataframe tbody tr th:only-of-type {\n",
       "        vertical-align: middle;\n",
       "    }\n",
       "\n",
       "    .dataframe tbody tr th {\n",
       "        vertical-align: top;\n",
       "    }\n",
       "\n",
       "    .dataframe thead th {\n",
       "        text-align: right;\n",
       "    }\n",
       "</style>\n",
       "<table border=\"1\" class=\"dataframe\">\n",
       "  <thead>\n",
       "    <tr style=\"text-align: right;\">\n",
       "      <th></th>\n",
       "      <th>2014</th>\n",
       "      <th>2015</th>\n",
       "      <th>2016</th>\n",
       "      <th>2017</th>\n",
       "    </tr>\n",
       "  </thead>\n",
       "  <tbody>\n",
       "    <tr>\n",
       "      <th>2014</th>\n",
       "      <td>595</td>\n",
       "      <td>437</td>\n",
       "      <td>485</td>\n",
       "      <td>517</td>\n",
       "    </tr>\n",
       "    <tr>\n",
       "      <th>2015</th>\n",
       "      <td>0</td>\n",
       "      <td>136</td>\n",
       "      <td>102</td>\n",
       "      <td>120</td>\n",
       "    </tr>\n",
       "    <tr>\n",
       "      <th>2016</th>\n",
       "      <td>0</td>\n",
       "      <td>0</td>\n",
       "      <td>51</td>\n",
       "      <td>45</td>\n",
       "    </tr>\n",
       "    <tr>\n",
       "      <th>2017</th>\n",
       "      <td>0</td>\n",
       "      <td>0</td>\n",
       "      <td>0</td>\n",
       "      <td>11</td>\n",
       "    </tr>\n",
       "  </tbody>\n",
       "</table>\n",
       "</div>"
      ],
      "text/plain": [
       "      2014  2015  2016  2017\n",
       "2014   595   437   485   517\n",
       "2015     0   136   102   120\n",
       "2016     0     0    51    45\n",
       "2017     0     0     0    11"
      ]
     },
     "execution_count": 24,
     "metadata": {},
     "output_type": "execute_result"
    }
   ],
   "source": [
    "make_table(orders_merged, 2014, 2017)"
   ]
  },
  {
   "cell_type": "markdown",
   "id": "144383b0",
   "metadata": {},
   "source": [
    "Таблица нам показывает сколько уникальных покупателей, которые начали пользоваться сервисом в таком-то году (индекс), купили товар в году (колонка).\n",
    "\n",
    "Например: значение 102 показывает нам, что из тех пользователей, кто вошел в сервис в 2015 году, только 102 пользователя сделали покупки и в 2016."
   ]
  },
  {
   "cell_type": "markdown",
   "id": "fbeba367",
   "metadata": {},
   "source": [
    "**Вывод:** \n",
    "\n",
    "- Из таблицы видно, что большой процент пользователей делает повторные покупки в следующих годах."
   ]
  },
  {
   "cell_type": "markdown",
   "id": "235d74db",
   "metadata": {},
   "source": [
    "## Общий вывод"
   ]
  },
  {
   "cell_type": "markdown",
   "id": "ca7d377b",
   "metadata": {},
   "source": [
    "Нам было доступно два датасета: customers и orders. Данные корректные, пропусков не обнаружено.\n",
    "\n",
    "Далее для анализа удержания пользователей проходил осмотр датасета orders. Даты покупок были с начала января 2014 по конец декабря 2017, что дало нам возможность рассматривать промежуток длительностью в 4 года.\n",
    "\n",
    "В ходе исследования были выявлены следующие факты:\n",
    "\n",
    "- Количество пользователей в каждый год и сумма общих покупок постепенно росли. (только в 2015 году была небольшая просадка по общей сумме покупок)\n",
    "- Число новых пользователей с каждым годом сильно убывает\n",
    "- Выявлено, что старые пользователи не уходят, большой процент пользователей остается с компанией\n",
    "- Число заказов и сумма заказов с каждым годом становиться больше за счет покупок старых пользователей, чем новых."
   ]
  },
  {
   "cell_type": "markdown",
   "id": "093823b4",
   "metadata": {},
   "source": [
    "Заказчик просил узнать стало ли больше оттекать пользователей в 2017 по сравнению с 2016 годом:\n",
    "\n",
    "- Мы наоборот видим, что пользователи пользующиеся сервисом с 2014/2015 годов приходили в 2017 чаще, чем в 2016. Поэтому гипотезу заказчика можно отвергнуть.\n",
    "\n",
    "Инструмент для самостоятельного принятия решений по поводу удержания пользовательской базы:\n",
    "\n",
    "- Немного непонятен этот пункт\n",
    "- Интсрументом могут быть функции, которые написаны выше, в них можно подставлять текущие значения (датасет, актуальный год) и получать таблицу с новыми значениями, которые впоследствии можно анализировать на предмет удержания."
   ]
  }
 ],
 "metadata": {
  "kernelspec": {
   "display_name": "Python 3 (ipykernel)",
   "language": "python",
   "name": "python3"
  },
  "language_info": {
   "codemirror_mode": {
    "name": "ipython",
    "version": 3
   },
   "file_extension": ".py",
   "mimetype": "text/x-python",
   "name": "python",
   "nbconvert_exporter": "python",
   "pygments_lexer": "ipython3",
   "version": "3.9.7"
  },
  "toc": {
   "base_numbering": 1,
   "nav_menu": {},
   "number_sections": true,
   "sideBar": true,
   "skip_h1_title": false,
   "title_cell": "Table of Contents",
   "title_sidebar": "Contents",
   "toc_cell": true,
   "toc_position": {
    "height": "calc(100% - 180px)",
    "left": "10px",
    "top": "150px",
    "width": "367.4632263183594px"
   },
   "toc_section_display": true,
   "toc_window_display": false
  }
 },
 "nbformat": 4,
 "nbformat_minor": 5
}
